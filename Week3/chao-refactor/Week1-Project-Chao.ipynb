{
 "cells": [
  {
   "cell_type": "markdown",
   "metadata": {},
   "source": [
    "# Guess A Number Round 1"
   ]
  },
  {
   "cell_type": "markdown",
   "metadata": {},
   "source": [
    "## This is a very simple game, you have to guess a number between 1 to 10. \n",
    "### You only have 3 chance."
   ]
  },
  {
   "cell_type": "markdown",
   "metadata": {},
   "source": [
    "------"
   ]
  },
  {
   "cell_type": "code",
   "execution_count": null,
   "metadata": {},
   "outputs": [],
   "source": [
    "import random"
   ]
  },
  {
   "cell_type": "code",
   "execution_count": null,
   "metadata": {},
   "outputs": [],
   "source": [
    "# Define the range of number we want to guess\n",
    "range_min = 1\n",
    "range_max = 10"
   ]
  },
  {
   "cell_type": "code",
   "execution_count": null,
   "metadata": {},
   "outputs": [],
   "source": [
    "# Define a max times one can guess\n",
    "max_guess_time = 3"
   ]
  },
  {
   "cell_type": "code",
   "execution_count": null,
   "metadata": {},
   "outputs": [],
   "source": [
    "# Let the PC randomly create a number between 1-10 for guess\n",
    "def pc_define_number():\n",
    "    number_to_guess = random.randint(range_min, range_max)\n",
    "    return number_to_guess"
   ]
  },
  {
   "cell_type": "code",
   "execution_count": null,
   "metadata": {},
   "outputs": [],
   "source": [
    "# Now it's our time to guess a number. Input a number we guess\n",
    "def give_a_guess():\n",
    "    while True:  # This is to make the loop come back if the input is not a integer\n",
    "        number_I_guess = input(\"Please guess a number between {} and {}: \" .format(range_min, range_max))\n",
    "        if number_I_guess.isnumeric():\n",
    "            if (int(number_I_guess) >= range_min and int(number_I_guess) <= range_max):\n",
    "                return number_I_guess\n",
    "            else: \n",
    "                print(\"You can only choose a integer number between {} and {}\".format(range_min, range_max))\n",
    "        else:\n",
    "            print(\"This is not a number! Please only input a number between {} and {}\".format(range_min, range_max))"
   ]
  },
  {
   "cell_type": "code",
   "execution_count": null,
   "metadata": {},
   "outputs": [],
   "source": [
    "def guess_a_number():\n",
    "    count = 0\n",
    "    bingo = 0\n",
    "    result = pc_define_number()  \n",
    "    while (count < max_guess_time) and (bingo == 0):\n",
    "        guess = int(give_a_guess())\n",
    "        if result == guess:\n",
    "            bingo += 1        \n",
    "        elif result < guess:\n",
    "            count += 1\n",
    "            if count < max_guess_time:\n",
    "                print(\"Maybe a bit lower?\")\n",
    "        else:\n",
    "            count += 1\n",
    "            if count < max_guess_time:\n",
    "                print(\"hahaha, I am bigger than your guess~\") \n",
    "\n",
    "    if bingo == 1:\n",
    "        print(\"Bingo!! You should buy a lottery!\")\n",
    "    else:\n",
    "        print(\"You didn't guess the number, the correct answer is {}\".format(result))"
   ]
  },
  {
   "cell_type": "code",
   "execution_count": null,
   "metadata": {},
   "outputs": [],
   "source": [
    "#print(\"Welcome to the 'Guess A Number' game! You need to guess a number between {} and {} in three times\".format(Range_min, Range_max))\n",
    "\n",
    "guess_a_number()"
   ]
  },
  {
   "cell_type": "markdown",
   "metadata": {},
   "source": [
    "-----------"
   ]
  },
  {
   "cell_type": "markdown",
   "metadata": {},
   "source": [
    "------------"
   ]
  },
  {
   "cell_type": "markdown",
   "metadata": {},
   "source": [
    "# Guess A Number Round 2"
   ]
  },
  {
   "cell_type": "markdown",
   "metadata": {},
   "source": [
    "## Similar to the first game, now the range of number is biggher, but I will give you a hint. \n",
    "### Remember, you only have 5 chances."
   ]
  },
  {
   "cell_type": "code",
   "execution_count": null,
   "metadata": {},
   "outputs": [],
   "source": [
    "# Define the range of number we want to guess\n",
    "range_min = 1\n",
    "range_max = 50"
   ]
  },
  {
   "cell_type": "code",
   "execution_count": null,
   "metadata": {},
   "outputs": [],
   "source": [
    "# Define a max times one can guess\n",
    "max_guess_time = 5"
   ]
  },
  {
   "cell_type": "code",
   "execution_count": null,
   "metadata": {},
   "outputs": [],
   "source": [
    "# Let the PC randomly create a number between Range_min and Range_max for guess\n",
    "def pc_define_number():\n",
    "    number_to_guess = random.randint(range_min, range_max)\n",
    "    residue_by_3 = number_to_guess % 3\n",
    "    residue_by_7 = number_to_guess % 7\n",
    "    if (residue_by_3 == 0) and (residue_by_7 == 0):\n",
    "        print(\"Hint: This number can be devided by 3 and 7\")\n",
    "    elif (residue_by_3 == 0) and (residue_by_7 != 0):\n",
    "        print(\"Hint: This number can be devided by 3 but not by 7. If you devide this number by 7, the residue is {}\" .format(number_to_guess % 7))        \n",
    "    elif (residue_by_3 != 0) and (residue_by_7 == 0):\n",
    "        print(\"Hint: This number can be devided by 7 but not by 3. If you devide this number by 3, the residue is {}\" .format(number_to_guess % 3))\n",
    "    else:\n",
    "        print(\"Hint: This number can not be devided by 3 or 7\")\n",
    "    return number_to_guess\n",
    "    "
   ]
  },
  {
   "cell_type": "code",
   "execution_count": null,
   "metadata": {},
   "outputs": [],
   "source": [
    "# Now it's our time to guess a number. Input a number we guess\n",
    "def give_a_guess():\n",
    "    while True:  # This is to make the loop come back if the input is not a integer\n",
    "        number_I_guess = input(\"Please guess a number between {} and {}: \" .format(range_min, range_max))\n",
    "        if number_I_guess.isnumeric():\n",
    "            if (int(number_I_guess) >= range_min and int(number_I_guess) <= range_max):\n",
    "                return number_I_guess\n",
    "            else: \n",
    "                print(\"You can only choose a integer number between {} and {}\".format(range_min, range_max))\n",
    "        else:\n",
    "            print(\"This is not a number! Please only input a number between {} and {}\".format(range_min, range_max))"
   ]
  },
  {
   "cell_type": "code",
   "execution_count": null,
   "metadata": {},
   "outputs": [],
   "source": [
    "def guess_a_number():\n",
    "    count = 0\n",
    "    bingo = 0\n",
    "    result = pc_define_number()\n",
    "    while (count < max_guess_time) and (bingo == 0):\n",
    "        guess = int(give_a_guess())\n",
    "        if result == guess:\n",
    "            bingo += 1        \n",
    "        elif result < guess:\n",
    "            count += 1\n",
    "            if count < max_guess_time:\n",
    "                print(\"Maybe a bit lower?\")\n",
    "        else:\n",
    "            count += 1\n",
    "            if count < max_guess_time:\n",
    "                print(\"hahaha, I am bigger than your guess~\") \n",
    "    if bingo == 1:\n",
    "        print(\"Bingo!! Did you get a 10/10 of math note in the high school?\")\n",
    "    else:\n",
    "        print(\"Sorry, you didn't guess the number. The correct answer is {}\".format(result))"
   ]
  },
  {
   "cell_type": "code",
   "execution_count": null,
   "metadata": {},
   "outputs": [],
   "source": [
    "guess_a_number()"
   ]
  },
  {
   "cell_type": "markdown",
   "metadata": {},
   "source": [
    "------"
   ]
  },
  {
   "cell_type": "markdown",
   "metadata": {},
   "source": [
    "---"
   ]
  },
  {
   "cell_type": "markdown",
   "metadata": {},
   "source": [
    "# Guess a Number Round 3"
   ]
  },
  {
   "cell_type": "markdown",
   "metadata": {},
   "source": [
    "------"
   ]
  },
  {
   "cell_type": "markdown",
   "metadata": {},
   "source": [
    "## Now, you need to guess a 4 digital number from 1000 to 9999. \n",
    "## The computer will tell you how many match (A) and mis-place (B) you have. \n",
    "### You have only 6 chances to guess the right number."
   ]
  },
  {
   "cell_type": "code",
   "execution_count": null,
   "metadata": {},
   "outputs": [],
   "source": [
    "# Define the range of number we want to guess\n",
    "range_min = 1000\n",
    "range_max = 9999"
   ]
  },
  {
   "cell_type": "code",
   "execution_count": null,
   "metadata": {},
   "outputs": [],
   "source": [
    "# Define a max times one can guess\n",
    "max_guess_time = 6"
   ]
  },
  {
   "cell_type": "code",
   "execution_count": null,
   "metadata": {},
   "outputs": [],
   "source": [
    "# Let the PC randomly create a number between 1-10 for guess\n",
    "def pc_define_number():\n",
    "    number_to_guess = random.randint(range_min, range_max)\n",
    "    return number_to_guess"
   ]
  },
  {
   "cell_type": "code",
   "execution_count": null,
   "metadata": {},
   "outputs": [],
   "source": [
    "# Now it's our time to guess a number. Input a number we guess\n",
    "def give_a_guess():\n",
    "    while True:  # This is to make the loop come back if the input is not a integer\n",
    "        number_I_guess = input(\"Please guess a number between 1000 and 9999: \")\n",
    "        if number_I_guess.isnumeric():\n",
    "            if (int(number_I_guess) >= range_min and int(number_I_guess) <= range_max):\n",
    "                return number_I_guess\n",
    "            else: \n",
    "                print(\"You can only choose a integer number between {} and {}\".format(range_min, range_max))\n",
    "        else:\n",
    "            print(\"This is not a number! Please only input a number between {} and {}\".format(range_min, range_max))"
   ]
  },
  {
   "cell_type": "code",
   "execution_count": null,
   "metadata": {},
   "outputs": [],
   "source": [
    "\"\"\"\n",
    "# To pre-test if the any of the guess number coincide with the pc-defined number. And if the number coincide, tell me how many are they.\n",
    "def check_guess(give_a_guess, pc_define_number):\n",
    "    input_split = list(str(give_a_guess))\n",
    "    pc_number_split = list(str(pc_define_number))\n",
    "    contained_any_number = 0\n",
    "    for i in range(len(input_split)):\n",
    "        if input_split[i] in pc_number_split:\n",
    "            contained_any_number += 1\n",
    "    return contained_any_number\"\"\""
   ]
  },
  {
   "cell_type": "code",
   "execution_count": null,
   "metadata": {},
   "outputs": [],
   "source": [
    "def guess_a_number2():\n",
    "    count = 0\n",
    "    bingo = 0\n",
    "    result = str(pc_define_number())\n",
    "    result2 = result\n",
    "    while (count < max_guess_time) and (bingo == 0):\n",
    "        correct = 0\n",
    "        wrong_position = 0\n",
    "        guess = give_a_guess()\n",
    "        if result == guess:\n",
    "            bingo += 1\n",
    "        else:\n",
    "            result = result2\n",
    "            for digital in range(len(result)):\n",
    "                if result == guess:\n",
    "                    bingo += 1\n",
    "                    break\n",
    "                elif result[digital] == guess[digital]:\n",
    "                    correct += 1\n",
    "                    result = result.replace(result[digital], \" \", 1)\n",
    "                    guess = guess.replace(guess[digital], \" \", 1)\n",
    "                elif (guess[digital] in result):\n",
    "                    wrong_position += 1\n",
    "                    result = result.replace(guess[digital],\" \", 1)\n",
    "                    guess = guess.replace(guess[digital], \" \", 1)\n",
    "                   \n",
    "        count += 1\n",
    "        if (count < max_guess_time) and (bingo == 0):\n",
    "            print(f\"Your guess contains {correct}A{wrong_position}b\")\n",
    "\n",
    "    if bingo == 1:\n",
    "        print(\"Bingo!! Do you have an IQ of 180?\")\n",
    "    else:\n",
    "        print(\"Sorry, you didn't guess the number. The correct answer is {}\".format(result2))"
   ]
  },
  {
   "cell_type": "code",
   "execution_count": null,
   "metadata": {},
   "outputs": [],
   "source": [
    "guess_a_number2()"
   ]
  },
  {
   "cell_type": "code",
   "execution_count": null,
   "metadata": {},
   "outputs": [],
   "source": []
  }
 ],
 "metadata": {
  "kernelspec": {
   "display_name": "Python 3",
   "language": "python",
   "name": "python3"
  },
  "language_info": {
   "codemirror_mode": {
    "name": "ipython",
    "version": 3
   },
   "file_extension": ".py",
   "mimetype": "text/x-python",
   "name": "python",
   "nbconvert_exporter": "python",
   "pygments_lexer": "ipython3",
   "version": "3.6.7"
  }
 },
 "nbformat": 4,
 "nbformat_minor": 2
}
